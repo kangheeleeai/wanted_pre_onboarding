{
  "nbformat": 4,
  "nbformat_minor": 0,
  "metadata": {
    "colab": {
      "name": "원티드_프리온보딩_코스.ipynb",
      "provenance": [],
      "collapsed_sections": [],
      "authorship_tag": "ABX9TyMjW56k6MpWWH/IdNMr4mkd"
    },
    "kernelspec": {
      "name": "python3",
      "display_name": "Python 3"
    },
    "language_info": {
      "name": "python"
    }
  },
  "cells": [
    {
      "cell_type": "markdown",
      "source": [
        "### **문제 1) Tokenizer 생성하기**\n",
        "\n",
        "**1-1. `preprocessing()`** 완\n",
        "\n",
        "텍스트 전처리를 하는 함수입니다.\n",
        "\n",
        "- input: 여러 영어 문장이 포함된 list 입니다. ex) ['I go to school.', 'I LIKE pizza!']\n",
        "- output: 각 문장을 토큰화한 결과로, nested list 형태입니다. ex) [['i', 'go', 'to', 'school'], ['i', 'like', 'pizza']]\n",
        "- 조건 1: 입력된 문장에 대해서 소문자로의 변환과 특수문자 제거를 수행합니다.\n",
        "- 조건 2: 토큰화는 white space 단위로 수행합니다.\n",
        "    \n",
        "    \n",
        "\n",
        "**1-2. `fit()`**\n",
        "\n",
        "어휘 사전을 구축하는 함수입니다.\n",
        "\n",
        "- input: 여러 영어 문장이 포함된 list 입니다. ex) ['I go to school.', 'I LIKE pizza!']\n",
        "- 조건 1: 위에서 만든 `preprocessing` 함수를 이용하여 각 문장에 대해 토큰화를 수행합니다.\n",
        "- 조건 2: 각각의 토큰을 정수 인덱싱 하기 위한 어휘 사전(`self.word_dict`)을 생성합니다.\n",
        "    - 주어진 코드에 있는 `self.word_dict`를 활용합니다.\n",
        "    \n",
        "\n",
        "**1-3. `transform()`**\n",
        "\n",
        "어휘 사전을 활용하여 입력 문장을 정수 인덱싱하는 함수입니다.\n",
        "\n",
        "- input: 여러 영어 문장이 포함된 list입니다. ex) ['I go to school.', 'I LIKE pizza!']\n",
        "- output: 각 문장의 정수 인덱싱으로, nested list 형태입니다. ex) [[1, 2, 3, 4], [1, 5, 6]]\n",
        "- 조건 1: 어휘 사전(`self.word_dict`)에 없는 단어는 'oov'의 index로 변환합니다."
      ],
      "metadata": {
        "id": "mlLobjE3mqfm"
      }
    },
    {
      "cell_type": "code",
      "source": [
        "import re\n",
        "\n",
        "class Tokenizer():\n",
        "  def __init__(self):\n",
        "    self.word_dict = {'oov': 0}\n",
        "    self.fit_checker = False\n",
        "  \n",
        "  def preprocessing(self, sequences):\n",
        "    result = []\n",
        "    \n",
        "    #문제 1-1\n",
        "    for sequence in sequences:\n",
        "      preprocessing_sequence=re.sub(r'[^0-9a-zA-Z ]', \"\", sequence.lower()) # 대문자->소문자 변환, 특수문자 제거\n",
        "      split_sequence=list(filter(None, preprocessing_sequence.split())) # white space를 기준으로 token화, None 데이터 삭제\n",
        "      result.append(split_sequence)\n",
        "\n",
        "    return result\n",
        "  \n",
        "  def fit(self, sequences):\n",
        "    self.fit_checker = False\n",
        "\n",
        "    #문제 1-2\n",
        "    tokens = self.preprocessing(sequences) # Preprocessing 실행 및 결과 저장\n",
        "\n",
        "    for token in tokens:\n",
        "      for word in token:\n",
        "        if word not in self.word_dict.keys(): # word_dict에 해당 word가 존재하는지 체크\n",
        "          self.word_dict[word]=len(self.word_dict.keys()) # 존재하지 않을 경우 word_dict에 word를 저장하고 token index를 할당\n",
        "\n",
        "    self.fit_checker = True\n",
        "  \n",
        "  def transform(self, sequences):\n",
        "    result = []\n",
        "    tokens = self.preprocessing(sequences)\n",
        "\n",
        "    if self.fit_checker:\n",
        "\n",
        "      #문제 1-3\n",
        "      for token in tokens:\n",
        "        token_by_result=list()\n",
        "\n",
        "        for word in token:\n",
        "          if word in self.word_dict.keys(): # word_dict에 해당 word가 존재하는지 체크\n",
        "            token_by_result.append(self.word_dict[word]) # 존재할 경우 해당 word를 token index로 반환\n",
        "          else:\n",
        "            token_by_result.append(self.word_dict['oov']) # 존재하지 않을 경우 해당 word는 oov로 취급하고 0 token index로 반환\n",
        "\n",
        "        result.append(token_by_result)\n",
        "\n",
        "      return result\n",
        "    else:\n",
        "      raise Exception(\"Tokenizer instance is not fitted yet.\")\n",
        "      \n",
        "  def fit_transform(self, sequences):\n",
        "    self.fit(sequences)\n",
        "    result = self.transform(sequences)\n",
        "    return result"
      ],
      "metadata": {
        "id": "YUqiPnmCnnBc"
      },
      "execution_count": 1,
      "outputs": []
    },
    {
      "cell_type": "code",
      "source": [
        "Tokenizer().fit_transform(['I go to school.', 'I LIKE pizza!'])"
      ],
      "metadata": {
        "colab": {
          "base_uri": "https://localhost:8080/"
        },
        "id": "-jH9SzlDRfob",
        "outputId": "e5fb7163-577c-4d3b-d83f-de2b09e06da1"
      },
      "execution_count": 2,
      "outputs": [
        {
          "output_type": "execute_result",
          "data": {
            "text/plain": [
              "[[1, 2, 3, 4], [1, 5, 6]]"
            ]
          },
          "metadata": {},
          "execution_count": 2
        }
      ]
    },
    {
      "cell_type": "markdown",
      "source": [
        "### **문제 2) TfidfVectorizer 생성하기**\n",
        "\n",
        "**2-1. `fit()`**\n",
        "\n",
        "입력 문장들을 이용해 IDF 행렬을 만드는 함수입니다.\n",
        "\n",
        "- input: 여러 영어 문장이 포함된 list 입니다. ex) ['I go to school.', 'I LIKE pizza!']\n",
        "- 조건 1: IDF 행렬은 list 형태입니다.\n",
        "    - ex) [토큰1에 대한 IDF 값, 토큰2에 대한 IDF 값, .... ]\n",
        "- 조건 2: IDF 값은 아래 식을 이용해 구합니다.\n",
        "    \n",
        "    $$\n",
        "    idf(d,t)=log_e(\\frac{n}{1+df(d,t)})\n",
        "    $$\n",
        "    \n",
        "    - $df(d,t)$ : 단어 t가 포함된 문장 d의 개수\n",
        "    - $n$ : 입력된 전체 문장 개수\n",
        "- 조건 3: 입력된 문장의 토큰화에는 문제 1에서 만든 Tokenizer를 사용합니다.\n",
        "    \n",
        "    \n",
        "\n",
        "**2-2. `transform()`**\n",
        "\n",
        "입력 문장들을 이용해 TF-IDF 행렬을 만드는 함수입니다.\n",
        "\n",
        "- input: 여러 영어 문장이 포함된 list입니다. ex) ['I go to school.', 'I LIKE pizza!']\n",
        "- output : nested list 형태입니다.\n",
        "    \n",
        "    ex) [[tf-idf(1, 1), tf-idf(1, 2), tf-idf(1, 3)], [tf-idf(2, 1), tf-idf(2, 2), tf-idf(2, 3)]]\n",
        "    \n",
        "    |  | 토큰1 | 토큰2 | 토큰3 |\n",
        "    | --- | --- | --- | --- |\n",
        "    | 문장1 | tf-idf(1,1) | tf-idf(1,2) | tf-idf(1,3) |\n",
        "    | 문장2 | tf-idf(2,1) | tf-idf(2,2) | tf-idf(2,3) |\n",
        "- 조건1 : 입력 문장을 이용해 TF 행렬을 만드세요.\n",
        "    - $tf(d, t)$ : 문장 d에 단어 t가 나타난 횟수\n",
        "- 조건2 : 문제 2-1( `fit()`)에서 만든 IDF 행렬과 아래 식을 이용해 TF-IDF 행렬을 만드세요\n",
        "    \n",
        "    $$\n",
        "    tf-idf(d,t) = tf(d,t) \\times idf(d,t)\n",
        "    $$"
      ],
      "metadata": {
        "id": "0i0R0Rppm3a9"
      }
    },
    {
      "cell_type": "code",
      "source": [
        "import numpy as np\n",
        "\n",
        "class TfidfVectorizer:\n",
        "  def __init__(self, tokenizer):\n",
        "    self.tokenizer = tokenizer\n",
        "    self.fit_checker = False\n",
        "  \n",
        "  def fit(self, sequences):\n",
        "    tokenized = self.tokenizer.fit_transform(sequences)\n",
        "\n",
        "    #문제 2-1\n",
        "    token_list=list(set(sum(tokenized, []))) # tokenized 결과를 하나의 list로 병합 및 uniq\n",
        "    sentence_len=len(tokenized) # IDF 계산을 위한 입력된 문장의 수 계산\n",
        "    self.df_matrix=list() # IDF 행렬 저장/반환을 위한 변수\n",
        "\n",
        "    for token_num in token_list:\n",
        "      df=0\n",
        "      for tokens in tokenized: # 각 단어(token)별로 문장을 탐색\n",
        "        if token_num in tokens: # 단어(token)가 해당 문장에 포함되어있을 경우 df 증가\n",
        "          df += 1 \n",
        "      \n",
        "      self.df_matrix.append(np.log(sentence_len/(1+df))) # IDF 계산 및 결과 저장\n",
        "    self.fit_checker = True\n",
        "    \n",
        "\n",
        "  def transform(self, sequences):\n",
        "    if self.fit_checker:\n",
        "      tokenized = self.tokenizer.transform(sequences)\n",
        "\n",
        "      #문제 2-2\n",
        "      token_list=list(set(sum(tokenized, []))) # tokenized 결과를 하나의 list로 병합 및 uniq\n",
        "      self.tfidf_matrix = list() # TF-IDF 결과 저장/반환을 위한 변수\n",
        "\n",
        "      for sentence_token in tokenized:\n",
        "        sen_tfidf_list=[float(0) for _ in range(len(token_list))]\n",
        "        for token in sentence_token:\n",
        "          idf=self.df_matrix[token-1] # IDF 결과값 호출\n",
        "          tf= sentence_token.count(token) # tf 계산\n",
        "          sen_tfidf_list[token-1]=tf*idf # TF-IDF 계산 및 저장\n",
        "\n",
        "        self.tfidf_matrix.append(sen_tfidf_list)\n",
        "      return self.tfidf_matrix\n",
        "\n",
        "    else:\n",
        "      raise Exception(\"TfidfVectorizer instance is not fitted yet.\")\n",
        "\n",
        "  def fit_transform(self, sequences):\n",
        "    self.fit(sequences)\n",
        "    return self.transform(sequences)"
      ],
      "metadata": {
        "id": "lWabpsidm364"
      },
      "execution_count": 3,
      "outputs": []
    },
    {
      "cell_type": "code",
      "source": [
        "TfidfVectorizer(Tokenizer()).fit_transform(['I go to school.', 'I LIKE pizza!'])"
      ],
      "metadata": {
        "id": "zoT5jrI27ARr",
        "colab": {
          "base_uri": "https://localhost:8080/"
        },
        "outputId": "d1caaa4b-8831-4fa4-88ba-2a35548b65d3"
      },
      "execution_count": 4,
      "outputs": [
        {
          "output_type": "execute_result",
          "data": {
            "text/plain": [
              "[[-0.40546510810816444, 0.0, 0.0, 0.0, 0.0, 0.0],\n",
              " [-0.40546510810816444, 0.0, 0.0, 0.0, 0.0, 0.0]]"
            ]
          },
          "metadata": {},
          "execution_count": 4
        }
      ]
    },
    {
      "cell_type": "code",
      "source": [
        ""
      ],
      "metadata": {
        "id": "uLjJSm5r05IC"
      },
      "execution_count": null,
      "outputs": []
    }
  ]
}